{
 "cells": [
  {
   "cell_type": "code",
   "execution_count": 34,
   "metadata": {
    "colab": {},
    "colab_type": "code",
    "id": "Y1tBn98GBePa"
   },
   "outputs": [],
   "source": [
    "import librosa\n",
    "import numpy as np\n",
    "import matplotlib.pyplot as plt\n",
    "import os\n",
    "import math\n",
    "import hmmlearn.hmm\n",
    "from sklearn.cluster import KMeans\n",
    "from pomegranate import *\n",
    "\n",
    "path_to_data = \"./Data\""
   ]
  },
  {
   "cell_type": "code",
   "execution_count": 35,
   "metadata": {
    "colab": {},
    "colab_type": "code",
    "id": "pt0tZRaHG7CG"
   },
   "outputs": [],
   "source": [
    "def get_mfcc(file_path):\n",
    "    y, sr = librosa.load(file_path) # read .wav file\n",
    "    hop_length = math.floor(sr*0.010) # 10ms hop\n",
    "    win_length = math.floor(sr*0.025) # 25ms frame\n",
    "    # mfcc is 12 x T matrix\n",
    "    mfcc = librosa.feature.mfcc(\n",
    "        y, sr, n_mfcc=12, n_fft=1024,\n",
    "        hop_length=hop_length, win_length=win_length)\n",
    "    # substract mean from mfcc --> normalize mfcc\n",
    "    mfcc = mfcc - np.mean(mfcc, axis=1).reshape((-1,1)) \n",
    "    # delta feature 1st order and 2nd order\n",
    "    delta1 = librosa.feature.delta(mfcc, order=1)\n",
    "    delta2 = librosa.feature.delta(mfcc, order=2)\n",
    "    # X is 36 x T\n",
    "    X = np.concatenate([mfcc, delta1, delta2], axis=0) # O^r\n",
    "    # return T x 36 (transpose of X)\n",
    "    return X.T # hmmlearn use T x N matrix\n",
    "\n",
    "def get_class_data(data_dir):\n",
    "    files = os.listdir(data_dir)\n",
    "    mfcc = [get_mfcc(os.path.join(data_dir,f)) for f in files if f.endswith(\".wav\")]\n",
    "    return mfcc\n",
    "\n",
    "def clustering(X, n_clusters=10):\n",
    "    kmeans = KMeans(n_clusters=n_clusters, n_init=50, random_state=0, verbose=0)\n",
    "    kmeans.fit(X)\n",
    "    print(\"centers\", kmeans.cluster_centers_.shape)\n",
    "    return kmeans  "
   ]
  },
  {
   "cell_type": "code",
   "execution_count": 48,
   "metadata": {
    "colab": {
     "base_uri": "https://localhost:8080/",
     "height": 84
    },
    "colab_type": "code",
    "id": "wXC3ks2WIBLc",
    "outputId": "9abdf5a9-fc04-4a3a-b5f4-455046436e7b"
   },
   "outputs": [
    {
     "name": "stdout",
     "output_type": "stream",
     "text": [
      "Load Nha dataset\n",
      "Load Me dataset\n",
      "Load YTe dataset\n",
      "Load ThanhPho dataset\n",
      "Load Hoc dataset\n",
      "Done!!!\n"
     ]
    }
   ],
   "source": [
    "\n",
    "class_names = [\"Nha\", \"Me\", \"YTe\", \"ThanhPho\", \"Hoc\",]\n",
    "test_class_names = [\"test_Nha\", \"test_Me\", \"test_YTe\", \"test_ThanhPho\", \"test_Hoc\"]\n",
    "datas = {}\n",
    "for cname in class_names:\n",
    "    print(f\"Load {cname} dataset\")\n",
    "    datas[cname] = get_class_data(os.path.join(path_to_data, cname))\n",
    "print('Done!!!')"
   ]
  },
  {
   "cell_type": "code",
   "execution_count": 49,
   "metadata": {
    "colab": {
     "base_uri": "https://localhost:8080/",
     "height": 69
    },
    "colab_type": "code",
    "id": "43Q6jiiDzWqd",
    "outputId": "abc8613e-fc27-4f72-fa98-02d47302936d",
    "scrolled": true
   },
   "outputs": [
    {
     "name": "stdout",
     "output_type": "stream",
     "text": [
      "vectors (55545, 36)\n",
      "centers (10, 36)\n",
      "centers (10, 36)\n",
      "Done\n"
     ]
    }
   ],
   "source": [
    "\n",
    "# Get all vectors in the datasets\n",
    "all_vectors = np.concatenate([np.concatenate(v, axis=0) for k, v in datas.items()], axis=0)\n",
    "print(\"vectors\", all_vectors.shape)\n",
    "# Run K-Means algorithm to get clusters\n",
    "kmeans = clustering(all_vectors)\n",
    "print(\"centers\", kmeans.cluster_centers_.shape)\n",
    "print(\"Done\")"
   ]
  },
  {
   "cell_type": "markdown",
   "metadata": {},
   "source": [
    "# Khởi tạo cho t và e của từng từ"
   ]
  },
  {
   "cell_type": "code",
   "execution_count": 50,
   "metadata": {},
   "outputs": [],
   "source": [
    "dict_components = {\n",
    "    #  ɲa̤ː˨˩ -> 2 âm vị -> 6 states\n",
    "    \"Nha\": 6,\n",
    "    #  mɛ̰ʔ˨˩ -> 2 âm vị -> 6 states\n",
    "    \"Me\": 6,\n",
    "    #  i˧˧ te˧˥ -> 3 âm vị -> 9 states\n",
    "    \"YTe\": 9,\n",
    "    #   tʰa̤jŋ˨˩ fo˧˥ -> 5 âm vị -> 15 states\n",
    "    \"ThanhPho\": 15,\n",
    "    #  ha̰ʔwk˨ -> 3 âm vị -> 9 states\n",
    "    \"Hoc\": 9,\n",
    "}\n",
    "\n",
    "dict_startprob = {\n",
    "    #  ɲa̤ː˨˩ -> 2 âm vị -> 6 states\n",
    "    \"Nha\": [0.3, 0.3, 0.4, 0.0, 0.0, 0.0,], \n",
    "    \n",
    "    #  mɛ̰ʔ˨˩ -> 2 âm vị -> 6 states\n",
    "    \"Me\": [0.2, 0.6, 0.2, 0.0, 0.0, 0.0,],\n",
    "    \n",
    "    #  i˧˧ te˧˥ -> 3 âm vị -> 9 states\n",
    "    \"YTe\": [0.2, 0.6, 0.2, 0.0, 0.0, 0.0, 0.0, 0.0, 0.0,],\n",
    "    \n",
    "    #   tʰa̤jŋ˨˩ fo˧˥ -> 5 âm vị -> 15 states\n",
    "    \"ThanhPho\": [0.1, 0.7, 0.2, 0.0, 0.0, 0.0, 0.0, 0.0, 0.0, 0.0, 0.0, 0.0, 0.0, 0.0, 0.0,],\n",
    "    \n",
    "    #  ha̰ʔwk˨ -> 3 âm vị -> 9 states\n",
    "    \"Hoc\": [0.3, 0.4, 0.3, 0.0, 0.0, 0.0, 0.0, 0.0, 0.0,],\n",
    "}\n",
    "\n",
    "dict_transmat = {\n",
    "    #  ɲa̤ː˨˩ \n",
    "    \"Nha\": [[0.3, 0.3, 0.4, 0.0, 0.0, 0.0,], \n",
    "            [0.0, 0.3, 0.3, 0.4, 0.0, 0.0,], \n",
    "            [0.0, 0.0, 0.3, 0.3, 0.4, 0.0,], \n",
    "            [0.0, 0.0, 0.0, 0.3, 0.3, 0.4,], \n",
    "            [0.0, 0.0, 0.0, 0.0, 0.3, 0.7,], \n",
    "            [0.0, 0.0, 0.0, 0.0, 0.0, 0.4,],], \n",
    "    \n",
    "    #  mɛ̰ʔ˨˩ \n",
    "    \"Me\":  [[0.3, 0.3, 0.4, 0.0, 0.0, 0.0,], \n",
    "            [0.0, 0.2, 0.4, 0.4, 0.0, 0.0,], \n",
    "            [0.0, 0.0, 0.3, 0.4, 0.3, 0.0,], \n",
    "            [0.0, 0.0, 0.0, 0.3, 0.3, 0.4,], \n",
    "            [0.0, 0.0, 0.0, 0.0, 0.3, 0.7,], \n",
    "            [0.0, 0.0, 0.0, 0.0, 0.0, 0.4,],], \n",
    "    \n",
    "    #  i˧˧ te˧˥ \n",
    "    \"YTe\": [[0.7, 0.2, 0.1, 0.0, 0.0, 0.0, 0.0, 0.0, 0.0,],\n",
    "            [0.0, 0.7, 0.2, 0.1, 0.0, 0.0, 0.0, 0.0, 0.0,],\n",
    "            [0.0, 0.0, 0.6, 0.3, 0.1, 0.0, 0.0, 0.0, 0.0,],\n",
    "            [0.0, 0.0, 0.0, 0.4, 0.4, 0.2, 0.0, 0.0, 0.0,],\n",
    "            [0.0, 0.0, 0.0, 0.0, 0.3, 0.4, 0.3, 0.0, 0.0,],\n",
    "            [0.0, 0.0, 0.0, 0.0, 0.0, 0.3, 0.4, 0.3, 0.0,],\n",
    "            [0.0, 0.0, 0.0, 0.0, 0.0, 0.0, 0.2, 0.7, 0.1,],\n",
    "            [0.0, 0.0, 0.0, 0.0, 0.0, 0.0, 0.0, 0.2, 0.8,],\n",
    "            [0.0, 0.0, 0.0, 0.0, 0.0, 0.0, 0.0, 0.0, 0.5,],],\n",
    "    \n",
    "    #   tʰa̤jŋ˨˩ fo˧˥ \n",
    "    \"ThanhPho\": [[0.1, 0.7, 0.2, 0.0, 0.0, 0.0, 0.0, 0.0, 0.0, 0.0, 0.0, 0.0, 0.0, 0.0, 0.0,],\n",
    "                 [0.0, 0.1, 0.7, 0.2, 0.0, 0.0, 0.0, 0.0, 0.0, 0.0, 0.0, 0.0, 0.0, 0.0, 0.0,],\n",
    "                 [0.0, 0.0, 0.1, 0.7, 0.2, 0.0, 0.0, 0.0, 0.0, 0.0, 0.0, 0.0, 0.0, 0.0, 0.0,],\n",
    "                 [0.0, 0.0, 0.0, 0.1, 0.7, 0.2, 0.0, 0.0, 0.0, 0.0, 0.0, 0.0, 0.0, 0.0, 0.0,],\n",
    "                 [0.0, 0.0, 0.0, 0.0, 0.1, 0.7, 0.2, 0.0, 0.0, 0.0, 0.0, 0.0, 0.0, 0.0, 0.0,],\n",
    "                 [0.0, 0.0, 0.0, 0.0, 0.0, 0.1, 0.7, 0.2, 0.0, 0.0, 0.0, 0.0, 0.0, 0.0, 0.0,],\n",
    "                 [0.0, 0.0, 0.0, 0.0, 0.0, 0.0, 0.1, 0.7, 0.2, 0.0, 0.0, 0.0, 0.0, 0.0, 0.0,],\n",
    "                 [0.0, 0.0, 0.0, 0.0, 0.0, 0.0, 0.0, 0.1, 0.7, 0.2, 0.0, 0.0, 0.0, 0.0, 0.0,],\n",
    "                 [0.0, 0.0, 0.0, 0.0, 0.0, 0.0, 0.0, 0.0, 0.1, 0.7, 0.2, 0.0, 0.0, 0.0, 0.0,],\n",
    "                 [0.0, 0.0, 0.0, 0.0, 0.0, 0.0, 0.0, 0.0, 0.0, 0.1, 0.7, 0.2, 0.0, 0.0, 0.0,],\n",
    "                 [0.0, 0.0, 0.0, 0.0, 0.0, 0.0, 0.0, 0.0, 0.0, 0.0, 0.1, 0.7, 0.2, 0.0, 0.0,],\n",
    "                 [0.0, 0.0, 0.0, 0.0, 0.0, 0.0, 0.0, 0.0, 0.0, 0.0, 0.0, 0.1, 0.7, 0.2, 0.0,],\n",
    "                 [0.0, 0.0, 0.0, 0.0, 0.0, 0.0, 0.0, 0.0, 0.0, 0.0, 0.0, 0.0, 0.1, 0.7, 0.2,],\n",
    "                 [0.0, 0.0, 0.0, 0.0, 0.0, 0.0, 0.0, 0.0, 0.0, 0.0, 0.0, 0.0, 0.0, 0.3, 0.7,],\n",
    "                 [0.0, 0.0, 0.0, 0.0, 0.0, 0.0, 0.0, 0.0, 0.0, 0.0, 0.0, 0.0, 0.0, 0.0, 1.0,],],\n",
    "                 \n",
    "#                  [0.0, 0.2, 0.6, 0.1, 0.0, 0.0, 0.0, 0.0, 0.0, 0.0, 0.0, 0.0, 0.0, 0.0, 0.0,],\n",
    "#                  [0.0, 0.0, 0.1, 0.7, 0.2, 0.0, 0.0, 0.0, 0.0, 0.0, 0.0, 0.0, 0.0, 0.0, 0.0,],\n",
    "#                  [0.0, 0.0, 0.0, 0.2, 0.5, 0.3, 0.0, 0.0, 0.0, 0.0, 0.0, 0.0, 0.0, 0.0, 0.0,],\n",
    "#                  [0.0, 0.0, 0.0, 0.0, 0.3, 0.5, 0.2, 0.0, 0.0, 0.0, 0.0, 0.0, 0.0, 0.0, 0.0,],\n",
    "#                  [0.0, 0.0, 0.0, 0.0, 0.0, 0.2, 0.6, 0.2, 0.0, 0.0, 0.0, 0.0, 0.0, 0.0, 0.0,],\n",
    "#                  [0.0, 0.0, 0.0, 0.0, 0.0, 0.0, 0.3, 0.3, 0.5, 0.0, 0.0, 0.0, 0.0, 0.0, 0.0,],\n",
    "#                  [0.0, 0.0, 0.0, 0.0, 0.0, 0.0, 0.0, 0.1, 0.8, 0.1, 0.0, 0.0, 0.0, 0.0, 0.0,],\n",
    "#                  [0.0, 0.0, 0.0, 0.0, 0.0, 0.0, 0.0, 0.0, 0.3, 0.5, 0.2, 0.0, 0.0, 0.0, 0.0,],\n",
    "#                  [0.0, 0.0, 0.0, 0.0, 0.0, 0.0, 0.0, 0.0, 0.0, 0.15, 0.7, 0.15, 0.0, 0.0, 0.0,],\n",
    "#                  [0.0, 0.0, 0.0, 0.0, 0.0, 0.0, 0.0, 0.0, 0.0, 0.0, 0.2, 0.6, 0.2, 0.0, 0.0,],\n",
    "#                  [0.0, 0.0, 0.0, 0.0, 0.0, 0.0, 0.0, 0.0, 0.0, 0.0, 0.0, 0.2, 0.7, 0.1, 0.0,],\n",
    "#                  [0.0, 0.0, 0.0, 0.0, 0.0, 0.0, 0.0, 0.0, 0.0, 0.0, 0.0, 0.0, 0.3, 0.6, 0.1,],\n",
    "#                  [0.0, 0.0, 0.0, 0.0, 0.0, 0.0, 0.0, 0.0, 0.0, 0.0, 0.0, 0.0, 0.0, 0.3, 0.7,],\n",
    "#                  [0.0, 0.0, 0.0, 0.0, 0.0, 0.0, 0.0, 0.0, 0.0, 0.0, 0.0, 0.0, 0.0, 0.0, 0.4,],],\n",
    "    \n",
    "    #  ha̰ʔwk˨ \n",
    "    \"Hoc\": [[0.3, 0.6, 0.1, 0.0, 0.0, 0.0, 0.0, 0.0, 0.0,],\n",
    "            [0.0, 0.4, 0.5, 0.1, 0.0, 0.0, 0.0, 0.0, 0.0,],\n",
    "            [0.0, 0.0, 0.5, 0.5, 0.0, 0.0, 0.0, 0.0, 0.0,],\n",
    "            [0.0, 0.0, 0.0, 0.4, 0.4, 0.2, 0.0, 0.0, 0.0,],\n",
    "            [0.0, 0.0, 0.0, 0.0, 0.3, 0.4, 0.3, 0.0, 0.0,],\n",
    "            [0.0, 0.0, 0.0, 0.0, 0.0, 0.3, 0.4, 0.3, 0.0,],\n",
    "            [0.0, 0.0, 0.0, 0.0, 0.0, 0.0, 0.5, 0.2, 0.1,],\n",
    "            [0.0, 0.0, 0.0, 0.0, 0.0, 0.0, 0.0, 0.7, 0.3,],\n",
    "            [0.0, 0.0, 0.0, 0.0, 0.0, 0.0, 0.0, 0.0, 0.2,],],\n",
    "}"
   ]
  },
  {
   "cell_type": "code",
   "execution_count": 54,
   "metadata": {},
   "outputs": [
    {
     "ename": "TypeError",
     "evalue": "from_matrix() takes at least 3 positional arguments (0 given)",
     "output_type": "error",
     "traceback": [
      "\u001b[1;31m---------------------------------------------------------------------------\u001b[0m",
      "\u001b[1;31mTypeError\u001b[0m                                 Traceback (most recent call last)",
      "\u001b[1;32m<ipython-input-54-ca5232f54490>\u001b[0m in \u001b[0;36m<module>\u001b[1;34m\u001b[0m\n\u001b[0;32m      8\u001b[0m     \u001b[1;31m# O^r size T x 1\u001b[0m\u001b[1;33m\u001b[0m\u001b[1;33m\u001b[0m\u001b[1;33m\u001b[0m\u001b[0m\n\u001b[0;32m      9\u001b[0m     \u001b[0mdataset\u001b[0m\u001b[1;33m[\u001b[0m\u001b[0mcname\u001b[0m\u001b[1;33m]\u001b[0m \u001b[1;33m=\u001b[0m \u001b[0mlist\u001b[0m\u001b[1;33m(\u001b[0m\u001b[1;33m[\u001b[0m\u001b[0mkmeans\u001b[0m\u001b[1;33m.\u001b[0m\u001b[0mpredict\u001b[0m\u001b[1;33m(\u001b[0m\u001b[0mv\u001b[0m\u001b[1;33m)\u001b[0m\u001b[1;33m.\u001b[0m\u001b[0mreshape\u001b[0m\u001b[1;33m(\u001b[0m\u001b[1;33m-\u001b[0m\u001b[1;36m1\u001b[0m\u001b[1;33m,\u001b[0m\u001b[1;36m1\u001b[0m\u001b[1;33m)\u001b[0m \u001b[1;32mfor\u001b[0m \u001b[0mv\u001b[0m \u001b[1;32min\u001b[0m \u001b[0mdatas\u001b[0m\u001b[1;33m[\u001b[0m\u001b[0mcname\u001b[0m\u001b[1;33m]\u001b[0m\u001b[1;33m]\u001b[0m\u001b[1;33m)\u001b[0m\u001b[1;33m\u001b[0m\u001b[1;33m\u001b[0m\u001b[0m\n\u001b[1;32m---> 10\u001b[1;33m     \u001b[0mhmm\u001b[0m \u001b[1;33m=\u001b[0m \u001b[0mHiddenMarkovModel\u001b[0m\u001b[1;33m.\u001b[0m\u001b[0mfrom_matrix\u001b[0m\u001b[1;33m(\u001b[0m\u001b[0mmatrix\u001b[0m\u001b[1;33m=\u001b[0m\u001b[0mnp\u001b[0m\u001b[1;33m.\u001b[0m\u001b[0marray\u001b[0m\u001b[1;33m(\u001b[0m\u001b[0mdict_transmat\u001b[0m\u001b[1;33m[\u001b[0m\u001b[0mcname\u001b[0m\u001b[1;33m]\u001b[0m\u001b[1;33m)\u001b[0m\u001b[1;33m,\u001b[0m\u001b[0mstarts\u001b[0m\u001b[1;33m=\u001b[0m\u001b[0mnp\u001b[0m\u001b[1;33m.\u001b[0m\u001b[0marray\u001b[0m\u001b[1;33m(\u001b[0m\u001b[0mdict_startprob\u001b[0m\u001b[1;33m[\u001b[0m\u001b[0mcname\u001b[0m\u001b[1;33m]\u001b[0m\u001b[1;33m)\u001b[0m\u001b[1;33m,\u001b[0m\u001b[0mends\u001b[0m\u001b[1;33m=\u001b[0m\u001b[0mnp\u001b[0m\u001b[1;33m.\u001b[0m\u001b[0marray\u001b[0m\u001b[1;33m(\u001b[0m\u001b[0mdict_startprob\u001b[0m\u001b[1;33m[\u001b[0m\u001b[0mcname\u001b[0m\u001b[1;33m]\u001b[0m\u001b[1;33m[\u001b[0m\u001b[1;33m:\u001b[0m\u001b[1;33m:\u001b[0m\u001b[1;33m-\u001b[0m\u001b[1;36m1\u001b[0m\u001b[1;33m]\u001b[0m\u001b[1;33m)\u001b[0m\u001b[1;33m)\u001b[0m\u001b[1;33m\u001b[0m\u001b[1;33m\u001b[0m\u001b[0m\n\u001b[0m\u001b[0;32m     11\u001b[0m     \u001b[1;32mif\u001b[0m \u001b[0mcname\u001b[0m\u001b[1;33m[\u001b[0m\u001b[1;33m:\u001b[0m\u001b[1;36m4\u001b[0m\u001b[1;33m]\u001b[0m \u001b[1;33m!=\u001b[0m \u001b[1;34m'test'\u001b[0m\u001b[1;33m:\u001b[0m\u001b[1;33m\u001b[0m\u001b[1;33m\u001b[0m\u001b[0m\n\u001b[0;32m     12\u001b[0m         \u001b[0mX\u001b[0m \u001b[1;33m=\u001b[0m \u001b[0mnp\u001b[0m\u001b[1;33m.\u001b[0m\u001b[0mconcatenate\u001b[0m\u001b[1;33m(\u001b[0m\u001b[0mdataset\u001b[0m\u001b[1;33m[\u001b[0m\u001b[0mcname\u001b[0m\u001b[1;33m]\u001b[0m\u001b[1;33m)\u001b[0m\u001b[1;33m\u001b[0m\u001b[1;33m\u001b[0m\u001b[0m\n",
      "\u001b[1;32mC:\\ProgramData\\Anaconda3\\lib\\site-packages\\pomegranate\\hmm.pyx\u001b[0m in \u001b[0;36mpomegranate.hmm.HiddenMarkovModel.from_matrix\u001b[1;34m()\u001b[0m\n",
      "\u001b[1;31mTypeError\u001b[0m: from_matrix() takes at least 3 positional arguments (0 given)"
     ]
    }
   ],
   "source": [
    "dataset = {}\n",
    "models = {}\n",
    "for cname in class_names:\n",
    "    class_vectors = datas[cname]\n",
    "    # convert all vectors to the cluster index\n",
    "    # dataset['one'] = [O^1, ... O^R]\n",
    "    # O^r = (c1, c2, ... ct, ... cT)\n",
    "    # O^r size T x 1\n",
    "    dataset[cname] = list([kmeans.predict(v).reshape(-1,1) for v in datas[cname]])\n",
    "    hmm = HiddenMarkovModel.from_matrix(matrix=np.array(dict_transmat[cname]),\n",
    "                                        dists=NormalDistribution.from_samples(),\n",
    "                                        starts=np.array(dict_startprob[cname]),\n",
    "                                        #ends=np.array(dict_startprob[cname][::-1])\n",
    "                                       )\n",
    "    if cname[:4] != 'test':\n",
    "        X = np.concatenate(dataset[cname])\n",
    "        lengths = list([len(x) for x in dataset[cname]])\n",
    "        print(\"training class\", cname)\n",
    "        print(X.shape, lengths, len(lengths))\n",
    "        hmm.fit(X, algorithm='viterbi')\n",
    "        models[cname] = hmm\n",
    "print(\"Training done\")"
   ]
  },
  {
   "cell_type": "code",
   "execution_count": 33,
   "metadata": {
    "colab": {
     "base_uri": "https://localhost:8080/",
     "height": 1000
    },
    "colab_type": "code",
    "id": "ZcstYnupIVP4",
    "outputId": "e410892c-637f-4e89-f2dd-375f0c0515b1",
    "scrolled": true
   },
   "outputs": [
    {
     "name": "stdout",
     "output_type": "stream",
     "text": [
      "training class Nha\n",
      "(8849, 1) [92, 141, 143, 78, 95, 92, 45, 74, 102, 72, 92, 92, 100, 74, 85, 95, 90, 78, 74, 69, 97, 71, 97, 53, 111, 75, 75, 93, 61, 100, 98, 102, 67, 107, 80, 114, 97, 68, 141, 117, 95, 88, 124, 124, 82, 85, 96, 65, 62, 77, 105, 86, 91, 110, 77, 111, 78, 81, 88, 83, 80, 93, 101, 88, 87, 87, 100, 73, 68, 67, 86, 97, 75, 77, 114, 71, 76, 120, 78, 142, 76, 97, 55, 83, 106, 46, 83, 87, 49, 92, 85, 61, 168, 71, 85, 90, 110, 98, 112] 99\n"
     ]
    },
    {
     "name": "stderr",
     "output_type": "stream",
     "text": [
      "         1      -22005.7373             +nan\n",
      "         2      -15700.7579       +6304.9795\n",
      "         3      -14196.3071       +1504.4507\n",
      "         4      -11949.7460       +2246.5612\n",
      "         5       -9332.2183       +2617.5276\n",
      "         6       -7643.6078       +1688.6106\n",
      "         7       -6906.6890        +736.9188\n",
      "         8       -6433.5350        +473.1540\n",
      "         9       -5873.9384        +559.5967\n",
      "        10       -5467.8806        +406.0577\n",
      "        11       -5387.4754         +80.4053\n",
      "        12       -5366.0497         +21.4256\n",
      "        13       -5349.9005         +16.1492\n",
      "        14       -5325.1899         +24.7106\n",
      "        15       -5248.0573         +77.1326\n",
      "        16       -5146.0374        +102.0199\n",
      "        17       -5059.5372         +86.5002\n",
      "        18       -5031.5024         +28.0348\n",
      "        19       -5009.3484         +22.1540\n",
      "        20       -4958.8454         +50.5030\n",
      "        21       -4927.5410         +31.3044\n",
      "        22       -4918.9142          +8.6268\n",
      "        23       -4916.5821          +2.3322\n",
      "        24       -4915.6020          +0.9800\n",
      "        25       -4914.9547          +0.6474\n",
      "        26       -4914.4418          +0.5129\n",
      "        27       -4914.0004          +0.4413\n",
      "        28       -4913.5910          +0.4094\n",
      "        29       -4913.2138          +0.3772\n",
      "        30       -4912.9232          +0.2906\n",
      "        31       -4912.7422          +0.1810\n",
      "        32       -4912.6380          +0.1042\n",
      "        33       -4912.5766          +0.0614\n",
      "        34       -4912.5389          +0.0377\n",
      "        35       -4912.5151          +0.0239\n",
      "        36       -4912.4996          +0.0155\n",
      "        37       -4912.4893          +0.0103\n",
      "        38       -4912.4822          +0.0071\n"
     ]
    },
    {
     "name": "stdout",
     "output_type": "stream",
     "text": [
      "training class Me\n",
      "(10468, 1) [101, 103, 66, 106, 101, 106, 115, 100, 96, 104, 98, 100, 98, 95, 98, 106, 106, 105, 108, 117, 101, 105, 99, 99, 101, 102, 100, 103, 102, 100, 126, 106, 100, 95, 111, 102, 116, 106, 106, 95, 100, 98, 96, 139, 98, 108, 110, 124, 105, 94, 95, 118, 93, 96, 98, 100, 111, 101, 95, 103, 98, 131, 101, 135, 109, 146, 117, 105, 96, 95, 112, 100, 109, 122, 107, 125, 101, 115, 112, 124, 106, 132, 121, 116, 119, 113, 107, 111, 93, 105, 129, 131, 80, 79, 82, 74, 76, 79, 81, 88] 100\n"
     ]
    },
    {
     "name": "stderr",
     "output_type": "stream",
     "text": [
      "         1      -23763.7620             +nan\n",
      "         2      -17578.9472       +6184.8148\n",
      "         3      -17087.2041        +491.7430\n",
      "         4      -15928.7692       +1158.4349\n",
      "         5      -13878.4040       +2050.3652\n",
      "         6      -10247.2918       +3631.1123\n",
      "         7       -8186.1921       +2061.0996\n",
      "         8       -7811.8055        +374.3866\n",
      "         9       -7567.4967        +244.3089\n",
      "        10       -7409.3141        +158.1826\n",
      "        11       -7097.8451        +311.4690\n",
      "        12       -6804.9347        +292.9104\n",
      "        13       -6729.2076         +75.7271\n",
      "        14       -6693.5930         +35.6146\n",
      "        15       -6657.8696         +35.7234\n",
      "        16       -6594.7166         +63.1530\n",
      "        17       -6503.5440         +91.1725\n",
      "        18       -6376.5776        +126.9665\n",
      "        19       -6026.9874        +349.5901\n",
      "        20       -5923.6464        +103.3411\n",
      "        21       -5907.5081         +16.1383\n",
      "        22       -5901.4405          +6.0676\n",
      "        23       -5898.9045          +2.5360\n",
      "        24       -5897.6042          +1.3003\n",
      "        25       -5896.8482          +0.7560\n",
      "        26       -5896.3743          +0.4739\n",
      "        27       -5896.0661          +0.3082\n",
      "        28       -5895.8654          +0.2007\n",
      "        29       -5895.7398          +0.1257\n",
      "        30       -5895.6693          +0.0705\n",
      "        31       -5895.6408          +0.0284\n",
      "        32       -5895.6462          -0.0054\n"
     ]
    },
    {
     "name": "stdout",
     "output_type": "stream",
     "text": [
      "training class YTe\n",
      "(12847, 1) [92, 129, 131, 127, 127, 125, 134, 121, 126, 146, 128, 119, 120, 139, 127, 136, 158, 164, 136, 154, 119, 156, 139, 125, 111, 129, 130, 117, 115, 124, 128, 117, 124, 130, 119, 126, 109, 150, 128, 153, 147, 120, 136, 126, 136, 119, 118, 123, 159, 129, 128, 184, 133, 125, 142, 135, 150, 131, 122, 127, 132, 118, 114, 125, 120, 120, 124, 128, 130, 120, 119, 119, 147, 128, 123, 123, 111, 151, 118, 129, 115, 113, 149, 121, 118, 114, 114, 116, 133, 120, 120, 120, 120, 114, 116, 118, 165, 120, 115, 149] 100\n"
     ]
    },
    {
     "name": "stderr",
     "output_type": "stream",
     "text": [
      "         1      -31197.5801             +nan\n",
      "         2      -21639.1897       +9558.3904\n",
      "         3      -20062.7073       +1576.4824\n",
      "         4      -16465.8619       +3596.8454\n",
      "         5      -12423.8772       +4041.9847\n",
      "         6      -10665.2111       +1758.6661\n",
      "         7       -8952.5093       +1712.7018\n",
      "         8       -8089.5248        +862.9846\n",
      "         9       -7659.3374        +430.1873\n",
      "        10       -7346.6269        +312.7106\n",
      "        11       -7195.8756        +150.7513\n",
      "        12       -7122.0012         +73.8743\n",
      "        13       -7111.4144         +10.5868\n",
      "        14       -7106.1524          +5.2621\n",
      "        15       -7101.5916          +4.5607\n",
      "        16       -7099.1070          +2.4847\n",
      "        17       -7098.0450          +1.0619\n",
      "        18       -7097.3483          +0.6967\n",
      "        19       -7096.8336          +0.5148\n",
      "        20       -7096.4891          +0.3444\n",
      "        21       -7096.2535          +0.2356\n",
      "        22       -7096.0610          +0.1925\n",
      "        23       -7095.6518          +0.4092\n",
      "        24       -7094.6290          +1.0227\n",
      "        25       -7092.9635          +1.6655\n",
      "        26       -7091.6779          +1.2856\n",
      "        27       -7091.5626          +0.1153\n",
      "        28       -7092.2424          -0.6798\n"
     ]
    },
    {
     "name": "stdout",
     "output_type": "stream",
     "text": [
      "training class ThanhPho\n",
      "(12660, 1) [141, 129, 141, 136, 137, 113, 175, 144, 132, 102, 123, 150, 192, 191, 124, 169, 134, 110, 144, 90, 161, 110, 116, 130, 104, 80, 133, 125, 115, 103, 104, 102, 98, 116, 127, 131, 152, 123, 121, 142, 242, 84, 126, 132, 89, 126, 91, 131, 135, 133, 133, 130, 141, 137, 145, 101, 128, 104, 136, 130, 130, 95, 145, 159, 150, 97, 90, 124, 86, 120, 100, 151, 149, 105, 95, 95, 100, 121, 279, 126, 121, 124, 101, 124, 82, 133, 108, 197, 111, 124, 121, 143, 113, 112, 91, 111, 132, 148, 103, 100] 100\n"
     ]
    },
    {
     "name": "stderr",
     "output_type": "stream",
     "text": [
      "         1      -29640.4008             +nan\n",
      "         2      -24816.3743       +4824.0265\n",
      "         3      -24491.5112        +324.8630\n",
      "         4      -23599.6993        +891.8119\n",
      "         5      -20630.0635       +2969.6358\n",
      "         6      -15578.6987       +5051.3648\n",
      "         7      -12573.2358       +3005.4629\n",
      "         8      -10037.7677       +2535.4681\n",
      "         9       -8967.3767       +1070.3910\n",
      "        10       -8848.5805        +118.7963\n",
      "        11       -8814.0363         +34.5442\n",
      "        12       -8800.4932         +13.5431\n",
      "        13       -8792.2357          +8.2575\n",
      "        14       -8785.4116          +6.8241\n",
      "        15       -8779.0696          +6.3421\n",
      "        16       -8773.6073          +5.4623\n",
      "        17       -8769.7386          +3.8687\n",
      "        18       -8767.6621          +2.0765\n",
      "        19       -8766.5867          +1.0754\n",
      "        20       -8765.5390          +1.0477\n",
      "        21       -8764.3755          +1.1635\n",
      "        22       -8763.3728          +1.0027\n",
      "        23       -8762.2988          +1.0740\n",
      "        24       -8761.0689          +1.2299\n",
      "        25       -8759.5215          +1.5474\n",
      "        26       -8757.5566          +1.9649\n",
      "        27       -8755.1511          +2.4055\n",
      "        28       -8752.3850          +2.7661\n",
      "        29       -8749.4353          +2.9497\n",
      "        30       -8746.5697          +2.8656\n",
      "C:\\ProgramData\\Anaconda3\\lib\\site-packages\\hmmlearn\\hmm.py:458: RuntimeWarning: invalid value encountered in true_divide\n",
      "  / stats['obs'].sum(axis=1)[:, np.newaxis])\n",
      "        31       -8743.5486          +3.0211\n",
      "        32              nan             +nan\n",
      "        33              nan             +nan\n",
      "        34              nan             +nan\n",
      "        35              nan             +nan\n",
      "        36              nan             +nan\n",
      "        37              nan             +nan\n",
      "        38              nan             +nan\n",
      "        39              nan             +nan\n",
      "        40              nan             +nan\n",
      "        41              nan             +nan\n",
      "        42              nan             +nan\n",
      "        43              nan             +nan\n",
      "        44              nan             +nan\n",
      "        45              nan             +nan\n",
      "        46              nan             +nan\n",
      "        47              nan             +nan\n",
      "        48              nan             +nan\n",
      "        49              nan             +nan\n",
      "        50              nan             +nan\n",
      "        51              nan             +nan\n",
      "        52              nan             +nan\n",
      "        53              nan             +nan\n",
      "        54              nan             +nan\n",
      "        55              nan             +nan\n",
      "        56              nan             +nan\n",
      "        57              nan             +nan\n"
     ]
    },
    {
     "ename": "KeyboardInterrupt",
     "evalue": "",
     "output_type": "error",
     "traceback": [
      "\u001b[1;31m---------------------------------------------------------------------------\u001b[0m",
      "\u001b[1;31mKeyboardInterrupt\u001b[0m                         Traceback (most recent call last)",
      "\u001b[1;32m<ipython-input-33-b13f10d87178>\u001b[0m in \u001b[0;36m<module>\u001b[1;34m\u001b[0m\n\u001b[0;32m     18\u001b[0m         \u001b[0mprint\u001b[0m\u001b[1;33m(\u001b[0m\u001b[1;34m\"training class\"\u001b[0m\u001b[1;33m,\u001b[0m \u001b[0mcname\u001b[0m\u001b[1;33m)\u001b[0m\u001b[1;33m\u001b[0m\u001b[1;33m\u001b[0m\u001b[0m\n\u001b[0;32m     19\u001b[0m         \u001b[0mprint\u001b[0m\u001b[1;33m(\u001b[0m\u001b[0mX\u001b[0m\u001b[1;33m.\u001b[0m\u001b[0mshape\u001b[0m\u001b[1;33m,\u001b[0m \u001b[0mlengths\u001b[0m\u001b[1;33m,\u001b[0m \u001b[0mlen\u001b[0m\u001b[1;33m(\u001b[0m\u001b[0mlengths\u001b[0m\u001b[1;33m)\u001b[0m\u001b[1;33m)\u001b[0m\u001b[1;33m\u001b[0m\u001b[1;33m\u001b[0m\u001b[0m\n\u001b[1;32m---> 20\u001b[1;33m         \u001b[0mhmm\u001b[0m\u001b[1;33m.\u001b[0m\u001b[0mfit\u001b[0m\u001b[1;33m(\u001b[0m\u001b[0mX\u001b[0m\u001b[1;33m,\u001b[0m \u001b[0mlengths\u001b[0m\u001b[1;33m=\u001b[0m\u001b[0mlengths\u001b[0m\u001b[1;33m)\u001b[0m\u001b[1;33m\u001b[0m\u001b[1;33m\u001b[0m\u001b[0m\n\u001b[0m\u001b[0;32m     21\u001b[0m         \u001b[0mmodels\u001b[0m\u001b[1;33m[\u001b[0m\u001b[0mcname\u001b[0m\u001b[1;33m]\u001b[0m \u001b[1;33m=\u001b[0m \u001b[0mhmm\u001b[0m\u001b[1;33m\u001b[0m\u001b[1;33m\u001b[0m\u001b[0m\n\u001b[0;32m     22\u001b[0m \u001b[0mprint\u001b[0m\u001b[1;33m(\u001b[0m\u001b[1;34m\"Training done\"\u001b[0m\u001b[1;33m)\u001b[0m\u001b[1;33m\u001b[0m\u001b[1;33m\u001b[0m\u001b[0m\n",
      "\u001b[1;32mC:\\ProgramData\\Anaconda3\\lib\\site-packages\\hmmlearn\\base.py\u001b[0m in \u001b[0;36mfit\u001b[1;34m(self, X, lengths)\u001b[0m\n\u001b[0;32m    468\u001b[0m             \u001b[0mcurr_logprob\u001b[0m \u001b[1;33m=\u001b[0m \u001b[1;36m0\u001b[0m\u001b[1;33m\u001b[0m\u001b[1;33m\u001b[0m\u001b[0m\n\u001b[0;32m    469\u001b[0m             \u001b[1;32mfor\u001b[0m \u001b[0mi\u001b[0m\u001b[1;33m,\u001b[0m \u001b[0mj\u001b[0m \u001b[1;32min\u001b[0m \u001b[0miter_from_X_lengths\u001b[0m\u001b[1;33m(\u001b[0m\u001b[0mX\u001b[0m\u001b[1;33m,\u001b[0m \u001b[0mlengths\u001b[0m\u001b[1;33m)\u001b[0m\u001b[1;33m:\u001b[0m\u001b[1;33m\u001b[0m\u001b[1;33m\u001b[0m\u001b[0m\n\u001b[1;32m--> 470\u001b[1;33m                 \u001b[0mframelogprob\u001b[0m \u001b[1;33m=\u001b[0m \u001b[0mself\u001b[0m\u001b[1;33m.\u001b[0m\u001b[0m_compute_log_likelihood\u001b[0m\u001b[1;33m(\u001b[0m\u001b[0mX\u001b[0m\u001b[1;33m[\u001b[0m\u001b[0mi\u001b[0m\u001b[1;33m:\u001b[0m\u001b[0mj\u001b[0m\u001b[1;33m]\u001b[0m\u001b[1;33m)\u001b[0m\u001b[1;33m\u001b[0m\u001b[1;33m\u001b[0m\u001b[0m\n\u001b[0m\u001b[0;32m    471\u001b[0m                 \u001b[0mlogprob\u001b[0m\u001b[1;33m,\u001b[0m \u001b[0mfwdlattice\u001b[0m \u001b[1;33m=\u001b[0m \u001b[0mself\u001b[0m\u001b[1;33m.\u001b[0m\u001b[0m_do_forward_pass\u001b[0m\u001b[1;33m(\u001b[0m\u001b[0mframelogprob\u001b[0m\u001b[1;33m)\u001b[0m\u001b[1;33m\u001b[0m\u001b[1;33m\u001b[0m\u001b[0m\n\u001b[0;32m    472\u001b[0m                 \u001b[0mcurr_logprob\u001b[0m \u001b[1;33m+=\u001b[0m \u001b[0mlogprob\u001b[0m\u001b[1;33m\u001b[0m\u001b[1;33m\u001b[0m\u001b[0m\n",
      "\u001b[1;32mC:\\ProgramData\\Anaconda3\\lib\\site-packages\\hmmlearn\\hmm.py\u001b[0m in \u001b[0;36m_compute_log_likelihood\u001b[1;34m(self, X)\u001b[0m\n\u001b[0;32m    432\u001b[0m \u001b[1;33m\u001b[0m\u001b[0m\n\u001b[0;32m    433\u001b[0m     \u001b[1;32mdef\u001b[0m \u001b[0m_compute_log_likelihood\u001b[0m\u001b[1;33m(\u001b[0m\u001b[0mself\u001b[0m\u001b[1;33m,\u001b[0m \u001b[0mX\u001b[0m\u001b[1;33m)\u001b[0m\u001b[1;33m:\u001b[0m\u001b[1;33m\u001b[0m\u001b[1;33m\u001b[0m\u001b[0m\n\u001b[1;32m--> 434\u001b[1;33m         \u001b[1;32mreturn\u001b[0m \u001b[0mlog_mask_zero\u001b[0m\u001b[1;33m(\u001b[0m\u001b[0mself\u001b[0m\u001b[1;33m.\u001b[0m\u001b[0memissionprob_\u001b[0m\u001b[1;33m)\u001b[0m\u001b[1;33m[\u001b[0m\u001b[1;33m:\u001b[0m\u001b[1;33m,\u001b[0m \u001b[0mnp\u001b[0m\u001b[1;33m.\u001b[0m\u001b[0mconcatenate\u001b[0m\u001b[1;33m(\u001b[0m\u001b[0mX\u001b[0m\u001b[1;33m)\u001b[0m\u001b[1;33m]\u001b[0m\u001b[1;33m.\u001b[0m\u001b[0mT\u001b[0m\u001b[1;33m\u001b[0m\u001b[1;33m\u001b[0m\u001b[0m\n\u001b[0m\u001b[0;32m    435\u001b[0m \u001b[1;33m\u001b[0m\u001b[0m\n\u001b[0;32m    436\u001b[0m     \u001b[1;32mdef\u001b[0m \u001b[0m_generate_sample_from_state\u001b[0m\u001b[1;33m(\u001b[0m\u001b[0mself\u001b[0m\u001b[1;33m,\u001b[0m \u001b[0mstate\u001b[0m\u001b[1;33m,\u001b[0m \u001b[0mrandom_state\u001b[0m\u001b[1;33m=\u001b[0m\u001b[1;32mNone\u001b[0m\u001b[1;33m)\u001b[0m\u001b[1;33m:\u001b[0m\u001b[1;33m\u001b[0m\u001b[1;33m\u001b[0m\u001b[0m\n",
      "\u001b[1;32m<__array_function__ internals>\u001b[0m in \u001b[0;36mconcatenate\u001b[1;34m(*args, **kwargs)\u001b[0m\n",
      "\u001b[1;31mKeyboardInterrupt\u001b[0m: "
     ]
    }
   ],
   "source": [
    "\n",
    "models = {}\n",
    "for cname in class_names:\n",
    "    class_vectors = dataset[cname]\n",
    "    # convert all vectors to the cluster index\n",
    "    # dataset['one'] = [O^1, ... O^R]\n",
    "    # O^r = (c1, c2, ... ct, ... cT)\n",
    "    # O^r size T x 1\n",
    "    dataset[cname] = list([kmeans.predict(v).reshape(-1,1) for v in dataset[cname]])\n",
    "    hmm = hmmlearn.hmm.MultinomialHMM(\n",
    "        n_components=dict_components[cname], random_state=0, n_iter=1000, verbose=True,\n",
    "        init_params='e', params = 'ste',\n",
    "        startprob_prior=np.array(dict_startprob[cname]),\n",
    "        transmat_prior=np.array(dict_transmat[cname]),\n",
    "    )\n",
    "    if cname[:4] != 'test':\n",
    "        X = np.concatenate(dataset[cname])\n",
    "        lengths = list([len(x) for x in dataset[cname]])\n",
    "        print(\"training class\", cname)\n",
    "        print(X.shape, lengths, len(lengths))\n",
    "        hmm.fit(X, lengths=lengths)\n",
    "        models[cname] = hmm\n",
    "print(\"Training done\")\n"
   ]
  },
  {
   "cell_type": "code",
   "execution_count": null,
   "metadata": {
    "colab": {
     "base_uri": "https://localhost:8080/",
     "height": 246
    },
    "colab_type": "code",
    "id": "zuoze_RnywoC",
    "outputId": "8dc29f4e-f58f-4d8d-ae8d-99b57e3e40a6"
   },
   "outputs": [],
   "source": [
    "\n",
    "print(\"Testing\")\n",
    "for true_cname in test_class_names:\n",
    "    for O in dataset[true_cname[5:]]:\n",
    "        score = {cname : model.score(O, [len(O)]) for cname, model in models.items() if cname[:4] != 'test' }\n",
    "        print(true_cname, score)\n",
    "\n"
   ]
  },
  {
   "cell_type": "code",
   "execution_count": null,
   "metadata": {
    "colab": {},
    "colab_type": "code",
    "id": "LwkOgxluQKxS"
   },
   "outputs": [],
   "source": []
  }
 ],
 "metadata": {
  "colab": {
   "collapsed_sections": [],
   "name": "XLTN_asg2_HMM.ipynb",
   "provenance": []
  },
  "kernelspec": {
   "display_name": "Python 3",
   "language": "python",
   "name": "python3"
  },
  "language_info": {
   "codemirror_mode": {
    "name": "ipython",
    "version": 3
   },
   "file_extension": ".py",
   "mimetype": "text/x-python",
   "name": "python",
   "nbconvert_exporter": "python",
   "pygments_lexer": "ipython3",
   "version": "3.7.6"
  }
 },
 "nbformat": 4,
 "nbformat_minor": 4
}
